{
 "cells": [
  {
   "cell_type": "code",
   "id": "ac1071ca",
   "metadata": {},
   "outputs": [],
   "source": "from tqec import Basis, NoiseModel, compile_block_graph\nfrom tqec.computation.block_graph import BlockGraph\nfrom tqec.computation.cube import ZXCube\n\n# add this block graph to the gallery directory \nblock_steane = BlockGraph.from_dae_file(\"steane_volume12.dae\")\n\n# Fill all ports with ZXZ cubes to cap them\nblock_steane.fill_ports(ZXCube.from_str(\"ZXZ\"))"
  },
  {
   "cell_type": "code",
   "id": "24df4c81",
   "metadata": {},
   "outputs": [],
   "source": "from pathlib import Path\nfrom typing import Literal\n\nimport matplotlib.pyplot as plt\nimport numpy\nimport sinter\n\nfrom tqec.compile.specs.library.css import CSS_BLOCK_BUILDER, CSS_SUBSTITUTION_BUILDER\nfrom tqec.compile.specs.library.zxxz import (\n    ZXXZ_BLOCK_BUILDER,\n    ZXXZ_SUBSTITUTION_BUILDER,\n)\n\n# Basis and NoiseModel are already imported in cell 0\nfrom tqec.simulation.plotting.inset import plot_observable_as_inset\nfrom tqec.simulation.simulation import start_simulation_using_sinter\n\n# Define the path directly instead of using __file__\nEXAMPLE_FOLDER = Path(\"/Users/kabirdubey/Projects/dev/tqec/examples/pyzx-steane\")\nTQEC_FOLDER = EXAMPLE_FOLDER.parent\nASSETS_FOLDER = TQEC_FOLDER / \"assets\"\nRESULTS_FOLDER = EXAMPLE_FOLDER / \"sim-results\"\n\n# Create results directory if it doesn't exist\nRESULTS_FOLDER.mkdir(exist_ok=True)\n\ndef generate_graphs(style: Literal[\"css\", \"zxxz\"], observable_basis: Basis) -> None:\n    # 1 Create `BlockGraph` representing the computation\n    block_graph = block_steane\n    zx_graph = block_graph.to_zx_graph()\n\n    # 2. Find and choose the logical observables\n    correlation_surfaces = block_graph.find_correlation_surfaces()\n    # Optional: filter observables here\n    # correlation_surfaces = [correlation_surfaces[0]]\n\n    block_builder = CSS_BLOCK_BUILDER if style == \"css\" else ZXXZ_BLOCK_BUILDER\n    substitution_builder = (\n        CSS_SUBSTITUTION_BUILDER if style == \"css\" else ZXXZ_SUBSTITUTION_BUILDER\n    )\n    stats = start_simulation_using_sinter(\n        block_graph,\n        range(1, 4),\n        list(numpy.logspace(-4, -1, 10)),\n        NoiseModel.uniform_depolarizing,\n        manhattan_radius=2,\n        block_builder=block_builder,\n        substitution_builder=substitution_builder,\n        observables=correlation_surfaces,\n        num_workers=20,\n        max_shots=10_000_000,\n        max_errors=5_000,\n        decoders=[\"pymatching\"],\n        print_progress=True,\n    )\n\n    for i, stat in enumerate(stats):\n        fig, ax = plt.subplots()\n        sinter.plot_error_rate(\n            ax=ax,\n            stats=stat,\n            x_func=lambda stat: stat.json_metadata[\"p\"],\n            group_func=lambda stat: stat.json_metadata[\"d\"],\n        )\n        plot_observable_as_inset(ax, zx_graph, correlation_surfaces[i])\n        ax.grid(axis=\"both\")\n        ax.legend()\n        ax.loglog()\n        ax.set_title(f\"{style.upper()} Logical CNOT Error Rate\")\n        fig.savefig(\n            RESULTS_FOLDER / f\"{style}_steane_result_{observable_basis}_observable_{i}.png\"\n        )\n\n\ndef main():\n    generate_graphs(\"css\", Basis.Z)\n    generate_graphs(\"css\", Basis.X)\n    generate_graphs(\"zxxz\", Basis.Z)\n    generate_graphs(\"zxxz\", Basis.X)\n\n\nif __name__ == \"__main__\":\n    main()"
  },
  {
   "cell_type": "code",
   "execution_count": null,
   "id": "72227e5d",
   "metadata": {},
   "outputs": [],
   "source": []
  }
 ],
 "metadata": {
  "kernelspec": {
   "display_name": ".tqec-venv",
   "language": "python",
   "name": "python3"
  },
  "language_info": {
   "codemirror_mode": {
    "name": "ipython",
    "version": 3
   },
   "file_extension": ".py",
   "mimetype": "text/x-python",
   "name": "python",
   "nbconvert_exporter": "python",
   "pygments_lexer": "ipython3",
   "version": "3.12.5"
  }
 },
 "nbformat": 4,
 "nbformat_minor": 5
}