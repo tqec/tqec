{
 "cells": [
  {
   "cell_type": "markdown",
   "metadata": {},
   "source": [
    "# Interop with SketchUp (Rotations) (File currently in progress)"
   ]
  },
  {
   "cell_type": "markdown",
   "metadata": {},
   "source": [
    "In this file, we import and visualise rotated CNOT models exported from SketchUp as .dae (COLLADA) files.\n",
    "\n",
    "Please note this file is currently being written."
   ]
  },
  {
   "cell_type": "markdown",
   "metadata": {},
   "source": [
    "## 1. General Workflow\n",
    "\n",
    "There are two basic data structures for representing a 3D SketchUp model in the `tqec` library:\n",
    "\n",
    "1. `ZXGraph`: ZX-calculus graph representation of the 3D model. Each spider represents a cube in the model and the Z/X type of the spider determines the color of the block.\n",
    "2. `BlockGraph`: The explicit graph representation of a 3D model. The `Cube`s are the nodes in the graph and the edge represent the `Pipe` connecting two `Cube`s.\n",
    "\n",
    "COLLADA (.dae) files can be imported into the second type of data structure, `BlockGraph`, by calling `BlockGraph.from_dae_file`."
   ]
  },
  {
   "cell_type": "code",
   "execution_count": 1,
   "metadata": {},
   "outputs": [],
   "source": [
    "from pathlib import Path\n",
    "from tqec import (\n",
    "    BlockGraph,\n",
    ")\n",
    "\n",
    "ASSETS_FOLDER = Path(\"../../assets/\").resolve()"
   ]
  },
  {
   "cell_type": "markdown",
   "metadata": {},
   "source": [
    "## 2. Examples"
   ]
  },
  {
   "cell_type": "markdown",
   "metadata": {},
   "source": [
    "### 2.1 Import & Display SketchUp-exported `.dae` model as a `BlockGraph`"
   ]
  },
  {
   "cell_type": "markdown",
   "metadata": {},
   "source": [
    "A collada model exported from SketchUp can be imported into `BlockGraph` using `BlockGraph.from_dae_file`. The imported model can be visualised by calling `view_as_html` method, which converts the `BlockGraph` to a Collada model and displays it in IPython compatible environments as embedded html with the help of `three.js`. If you are not on an environment that allows embedded HTML, you can also save the visualization as a `.html` file and open it in a browser.\n",
    "\n",
    "Function `display_collada_model` can also be used to display an arbitrary Collada model in IPython."
   ]
  },
  {
   "cell_type": "code",
   "execution_count": 2,
   "metadata": {},
   "outputs": [],
   "source": [
    "# Multi-file import\n",
    "# Creates HTML views for each filename in list (helpful to confirm import to blockgraph), but only last blockgraph remains available for simulations.\n",
    "filenames = [\"logical_cnot\", \"cnot_rotate_x_90\"]\n",
    "\n",
    "# Single file import\n",
    "# filenames = [\"cnot_rotate_x_90\"]\n",
    "\n",
    "for filename in filenames:\n",
    "    cnot_from_dae = BlockGraph.from_dae_file(\n",
    "        ASSETS_FOLDER / f\"{filename}.dae\", \"Importing CNOT into Block Graph\"\n",
    "    )\n",
    "\n",
    "    # Write blockgraph to file\n",
    "    html = cnot_from_dae.view_as_html()\n",
    "    with open(f\"{filename}.html\", \"w\") as f:\n",
    "        f.write(str(html))\n",
    "        f.close()"
   ]
  }
 ],
 "metadata": {
  "kernelspec": {
   "display_name": ".venv",
   "language": "python",
   "name": "python3"
  },
  "language_info": {
   "codemirror_mode": {
    "name": "ipython",
    "version": 3
   },
   "file_extension": ".py",
   "mimetype": "text/x-python",
   "name": "python",
   "nbconvert_exporter": "python",
   "pygments_lexer": "ipython3",
   "version": "3.12.6"
  }
 },
 "nbformat": 4,
 "nbformat_minor": 2
}
