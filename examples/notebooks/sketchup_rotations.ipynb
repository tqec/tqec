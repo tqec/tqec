{
 "cells": [
  {
   "cell_type": "markdown",
   "metadata": {},
   "source": [
    "# Importing Rotated SketchUp Structures"
   ]
  },
  {
   "cell_type": "markdown",
   "metadata": {},
   "source": [
    "In this file, we import and visualise rotated CNOT models exported from SketchUp as .dae (COLLADA) files."
   ]
  },
  {
   "cell_type": "code",
   "execution_count": null,
   "metadata": {},
   "outputs": [],
   "source": [
    "from pathlib import Path\n",
    "from tqec import BlockGraph\n",
    "\n",
    "ASSETS_FOLDER = Path(\"../../assets/\").resolve()"
   ]
  },
  {
   "cell_type": "markdown",
   "metadata": {},
   "source": [
    "## 1. General Workflow\n",
    "\n",
    "There are two basic data structures for representing a 3D SketchUp model in the `tqec` library:\n",
    "\n",
    "1. `ZXGraph`: ZX-calculus graph representation of the 3D model.\n",
    "2. `BlockGraph`: The explicit graph representation of a 3D model.\n",
    "\n",
    "COLLADA (.dae) files can be imported into the second type of data structure, `BlockGraph`, by calling `BlockGraph.from_dae_file`.\n",
    "\n",
    "Right angle (0, 90, 180, and 270 degrees) rotations are valid for all axes (x, y, z)."
   ]
  },
  {
   "cell_type": "markdown",
   "metadata": {},
   "source": [
    "## 2. Examples"
   ]
  },
  {
   "cell_type": "markdown",
   "metadata": {},
   "source": [
    "A collada model exported from SketchUp can be imported into `BlockGraph` using `BlockGraph.from_dae_file`. The imported model can be visualised by calling `view_as_html` method, which converts the `BlockGraph` to a Collada model and displays it in IPython compatible environments as embedded html with the help of `three.js`. If you are not on an environment that allows embedded HTML, you can also save the visualization as a `.html` file and open it in a browser.\n",
    "\n",
    "Function `display_collada_model` can also be used to display an arbitrary Collada model in IPython."
   ]
  },
  {
   "cell_type": "markdown",
   "metadata": {},
   "source": [
    "### 2.1 Testing import of simple structures"
   ]
  },
  {
   "cell_type": "markdown",
   "metadata": {},
   "source": [
    "Let's start by running a few basic imports of unrotated and rotated versions of a simple structure."
   ]
  },
  {
   "cell_type": "code",
   "execution_count": 14,
   "metadata": {},
   "outputs": [],
   "source": [
    "# Import a single unrotated structure\n",
    "filename = \"memory\"\n",
    "cnot_from_dae = BlockGraph.from_dae_file(\n",
    "    ASSETS_FOLDER / f\"{filename}.dae\", \"Importing CNOT into Block Graph\"\n",
    ")"
   ]
  },
  {
   "cell_type": "code",
   "execution_count": 15,
   "metadata": {},
   "outputs": [],
   "source": [
    "# Write imported blockgraph to file\n",
    "html = cnot_from_dae.view_as_html()\n",
    "with open(f\"{filename}.html\", \"w\") as f:\n",
    "    f.write(str(html))\n",
    "    f.close()"
   ]
  },
  {
   "cell_type": "code",
   "execution_count": 18,
   "metadata": {},
   "outputs": [],
   "source": [
    "# Import a single rotated structure\n",
    "filename = \"memory_90\"\n",
    "cnot_from_dae = BlockGraph.from_dae_file(\n",
    "    ASSETS_FOLDER / f\"{filename}.dae\", \"Importing CNOT into Block Graph\"\n",
    ")"
   ]
  },
  {
   "cell_type": "code",
   "execution_count": 19,
   "metadata": {},
   "outputs": [],
   "source": [
    "# Write imported blockgraph to file\n",
    "html = cnot_from_dae.view_as_html()\n",
    "with open(f\"{filename}.html\", \"w\") as f:\n",
    "    f.write(str(html))\n",
    "    f.close()"
   ]
  },
  {
   "cell_type": "markdown",
   "metadata": {},
   "source": [
    "### 2.2 Testing import of structures with hadamards"
   ]
  },
  {
   "cell_type": "markdown",
   "metadata": {},
   "source": [
    "Hadamards are tricky. It is worth running a few checks with hadamards rotated in various manners."
   ]
  },
  {
   "cell_type": "code",
   "execution_count": null,
   "metadata": {},
   "outputs": [],
   "source": [
    "# Note. Multi-file approach below can help confirm import, but only the last blockgraph remains available for simulations\n",
    "filenames = [\n",
    "    \"with_hadamards\",\n",
    "    \"with_hadamards_90\",\n",
    "    \"with_hadamards_180\",\n",
    "    \"with_hadamards_270\",\n",
    "]\n",
    "\n",
    "for filename in filenames:\n",
    "    cnot_from_dae = BlockGraph.from_dae_file(\n",
    "        ASSETS_FOLDER / f\"{filename}.dae\", \"Importing CNOT into Block Graph\"\n",
    "    )\n",
    "\n",
    "    # Write blockgraph to file\n",
    "    html = cnot_from_dae.view_as_html()\n",
    "    with open(f\"{filename}.html\", \"w\") as f:\n",
    "        f.write(str(html))\n",
    "        f.close()"
   ]
  },
  {
   "cell_type": "markdown",
   "metadata": {},
   "source": [
    "### 2.2 Testing import of many rotated structures"
   ]
  },
  {
   "cell_type": "markdown",
   "metadata": {},
   "source": [
    "We can now go ahead an import more ambitious structures, for example, a CNOT."
   ]
  },
  {
   "cell_type": "code",
   "execution_count": null,
   "metadata": {},
   "outputs": [],
   "source": [
    "# Note. Multi-file approach below can help confirm import, but only the last blockgraph remains available for simulations\n",
    "filenames = [\n",
    "    \"logical_cnot\",\n",
    "    \"cnot_rotate_x_90\",\n",
    "    \"cnot_rotate_x_180\",\n",
    "    \"cnot_rotate_x_270\",\n",
    "    \"cnot_rotate_y_90\",\n",
    "    \"cnot_rotate_y_180\",\n",
    "    \"cnot_rotate_y_270\",\n",
    "    \"cnot_rotate_z_90\",\n",
    "    \"cnot_rotate_z_180\",\n",
    "    \"cnot_rotate_z_270\",\n",
    "]\n",
    "\n",
    "for filename in filenames:\n",
    "    cnot_from_dae = BlockGraph.from_dae_file(\n",
    "        ASSETS_FOLDER / f\"{filename}.dae\", \"Importing CNOT into Block Graph\"\n",
    "    )\n",
    "\n",
    "    # Write blockgraph to file\n",
    "    html = cnot_from_dae.view_as_html()\n",
    "    with open(f\"{filename}.html\", \"w\") as f:\n",
    "        f.write(str(html))\n",
    "        f.close()"
   ]
  }
 ],
 "metadata": {
  "kernelspec": {
   "display_name": ".venv",
   "language": "python",
   "name": "python3"
  },
  "language_info": {
   "codemirror_mode": {
    "name": "ipython",
    "version": 3
   },
   "file_extension": ".py",
   "mimetype": "text/x-python",
   "name": "python",
   "nbconvert_exporter": "python",
   "pygments_lexer": "ipython3",
   "version": "3.12.6"
  }
 },
 "nbformat": 4,
 "nbformat_minor": 2
}
