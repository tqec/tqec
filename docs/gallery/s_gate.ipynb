{
 "cells": [
  {
   "cell_type": "markdown",
   "metadata": {},
   "source": [
    "# Logical S Gate\n",
    "\n",
    "This notebook demonstrates the logical S gate with inplace Y basis measurement and gate teleportation [<cite data-footcite-t=\"Gidney_inplace_access_2024\"></cite>]."
   ]
  },
  {
   "cell_type": "markdown",
   "metadata": {},
   "source": [
    "## Construction\n",
    "\n",
    "S gate can be implemented by gate teleportation:\n",
    "\n",
    "- $M_{ZZ}$ measurement between the target qubit and an ancilla qubit initialized in the $|+\\rangle$ state.\n",
    "- Y basis measurement of the ancilla qubit.\n",
    "\n",
    "`tqec` provides builtin functions `tqec.gallery.s_gate_teleportation` to construct it."
   ]
  },
  {
   "cell_type": "code",
   "execution_count": null,
   "metadata": {},
   "outputs": [],
   "source": [
    "from tqec import PauliBasis\n",
    "from tqec.gallery import s_gate_teleportation\n",
    "\n",
    "graph = s_gate_teleportation(PauliBasis.Y)\n",
    "graph.view_as_html()"
   ]
  },
  {
   "cell_type": "markdown",
   "metadata": {},
   "source": [
    "S gate realizes $Y \\rightarrow X$ and $Z \\rightarrow Z$ stabilizer flows, ignoring the signs. The following correlation surface shows that the computation maps the $Y$ operator at the bottom input to the $X$ operator at the top output."
   ]
  },
  {
   "cell_type": "code",
   "execution_count": null,
   "metadata": {},
   "outputs": [],
   "source": [
    "correlation_surfaces = graph.find_correlation_surfaces()\n",
    "graph.view_as_html(\n",
    "    pop_faces_at_directions=(\"-Y\",),\n",
    "    show_correlation_surface=correlation_surfaces[0],\n",
    ")"
   ]
  },
  {
   "cell_type": "markdown",
   "metadata": {},
   "source": [
    "## Circuit\n",
    "\n",
    "You can download the circuit for a $d=3$ S gate circuit from [here](../media/gallery/memory/circuit.stim), or generate it with the code below. You can also open the circuit in [Crumble]()."
   ]
  },
  {
   "cell_type": "code",
   "execution_count": null,
   "metadata": {},
   "outputs": [],
   "source": [
    "from tqec import NoiseModel, compile_block_graph\n",
    "\n",
    "compiled_graph = compile_block_graph(graph)\n",
    "circuit = compiled_graph.generate_stim_circuit(\n",
    "    k=1, noise_model=NoiseModel.uniform_depolarizing(p=0.001)\n",
    ")"
   ]
  },
  {
   "cell_type": "markdown",
   "metadata": {},
   "source": [
    "## Simulation"
   ]
  },
  {
   "cell_type": "markdown",
   "metadata": {},
   "source": [
    "Here we show the simulation results of $Y \\rightarrow X$ and $Z \\rightarrow Z$ stabilizer flows under **uniform depolarizing** noise mode.\n",
    "\n",
    "<details><summary><strong>Click to show the full code used for simulation</strong></summary>\n",
    "\n",
    "```py\n",
    "from multiprocessing import cpu_count\n",
    "from pathlib import Path\n",
    "\n",
    "import matplotlib.pyplot as plt\n",
    "import numpy\n",
    "import sinter\n",
    "\n",
    "from tqec import NoiseModel\n",
    "from tqec.gallery.s_gate_teleportation import s_gate_teleportation\n",
    "from tqec.simulation.plotting.inset import plot_observable_as_inset\n",
    "from tqec.simulation.simulation import start_simulation_using_sinter\n",
    "from tqec.utils.enums import PauliBasis\n",
    "\n",
    "SAVE_DIR = Path(\"results\")\n",
    "\n",
    "\n",
    "def generate_graphs(in_observable_basis: PauliBasis) -> None:\n",
    "    block_graph = s_gate_teleportation(in_observable_basis)\n",
    "    zx_graph = block_graph.to_zx_graph()\n",
    "\n",
    "    correlation_surfaces = block_graph.find_correlation_surfaces()\n",
    "\n",
    "    stats = start_simulation_using_sinter(\n",
    "        block_graph,\n",
    "        range(1, 4),\n",
    "        list(numpy.logspace(-4, -1, 10)),\n",
    "        NoiseModel.uniform_depolarizing,\n",
    "        manhattan_radius=2,\n",
    "        observables=correlation_surfaces,\n",
    "        num_workers=cpu_count(),\n",
    "        max_shots=1_000_000,\n",
    "        max_errors=5_000,\n",
    "        decoders=[\"pymatching\"],\n",
    "        # note that save_resume_filepath and database_path can help reduce the time taken\n",
    "        # by the simulation after the database and result statistics have been saved to\n",
    "        # the chosen path\n",
    "        save_resume_filepath=Path(\n",
    "            f\"../_examples_database/s_gate_stats_{in_observable_basis.value}.csv\"\n",
    "        ),\n",
    "        database_path=Path(\"../_examples_database/database.pkl\"),\n",
    "    )\n",
    "\n",
    "    for i, stat in enumerate(stats):\n",
    "        fig, ax = plt.subplots()\n",
    "        sinter.plot_error_rate(\n",
    "            ax=ax,\n",
    "            stats=stat,\n",
    "            x_func=lambda stat: stat.json_metadata[\"p\"],\n",
    "            failure_units_per_shot_func=lambda stat: stat.json_metadata[\"d\"],\n",
    "            group_func=lambda stat: stat.json_metadata[\"d\"],\n",
    "        )\n",
    "        plot_observable_as_inset(ax, zx_graph, correlation_surfaces[i])\n",
    "        ax.grid(axis=\"both\")\n",
    "        ax.legend()\n",
    "        ax.loglog()\n",
    "        ax.set_title(\"Logical S Gate Error Rate\")\n",
    "        ax.set_xlabel(\"Physical Error Rate\")\n",
    "        ax.set_ylabel(\"Logical Error Rate(per round)\")\n",
    "        fig.savefig(\n",
    "            SAVE_DIR\n",
    "            / f\"logical_s_gate_result_input_{in_observable_basis}_operator.png\"\n",
    "        )\n",
    "\n",
    "\n",
    "def main():\n",
    "    SAVE_DIR.mkdir(exist_ok=True)\n",
    "    generate_graphs(PauliBasis.Z)\n",
    "    generate_graphs(PauliBasis.X)\n",
    "\n",
    "\n",
    "if __name__ == \"__main__\":\n",
    "    main()\n",
    "\n",
    "```\n",
    "\n",
    "</details>"
   ]
  },
  {
   "cell_type": "code",
   "execution_count": null,
   "metadata": {
    "nbsphinx": "hidden"
   },
   "outputs": [],
   "source": [
    "from multiprocessing import cpu_count\n",
    "from pathlib import Path\n",
    "\n",
    "import matplotlib.pyplot as plt\n",
    "import numpy\n",
    "import sinter\n",
    "\n",
    "from tqec import NoiseModel\n",
    "from tqec.gallery.s_gate_teleportation import s_gate_teleportation\n",
    "from tqec.simulation.plotting.inset import plot_observable_as_inset\n",
    "from tqec.simulation.simulation import start_simulation_using_sinter\n",
    "from tqec.utils.enums import PauliBasis\n",
    "\n",
    "\n",
    "def generate_graphs(in_observable_basis: PauliBasis) -> None:\n",
    "    \"\"\"Generate the logical error-rate graphs corresponding to the provided basis.\"\"\"\n",
    "    block_graph = s_gate_teleportation(in_observable_basis)\n",
    "    zx_graph = block_graph.to_zx_graph()\n",
    "\n",
    "    correlation_surfaces = block_graph.find_correlation_surfaces()\n",
    "\n",
    "    stats = start_simulation_using_sinter(\n",
    "        block_graph,\n",
    "        range(1, 4),\n",
    "        list(numpy.logspace(-4, -1, 10)),\n",
    "        NoiseModel.uniform_depolarizing,\n",
    "        manhattan_radius=2,\n",
    "        observables=correlation_surfaces,\n",
    "        num_workers=cpu_count(),\n",
    "        max_shots=1_000_000,\n",
    "        max_errors=5_000,\n",
    "        decoders=[\"pymatching\"],\n",
    "        # note that save_resume_filepath and database_path can help reduce the time taken\n",
    "        # by the simulation after the database and result statistics have been saved to\n",
    "        # the chosen path\n",
    "        save_resume_filepath=Path(\n",
    "            f\"../_examples_database/s_gate_stats_{in_observable_basis.value}.csv\"\n",
    "        ),\n",
    "        database_path=Path(\"../_examples_database/database.pkl\"),\n",
    "    )\n",
    "\n",
    "    for i, stat in enumerate(stats):\n",
    "        fig, ax = plt.subplots()\n",
    "        sinter.plot_error_rate(\n",
    "            ax=ax,\n",
    "            stats=stat,\n",
    "            x_func=lambda stat: stat.json_metadata[\"p\"],\n",
    "            failure_units_per_shot_func=lambda stat: stat.json_metadata[\"d\"],\n",
    "            group_func=lambda stat: stat.json_metadata[\"d\"],\n",
    "        )\n",
    "        plot_observable_as_inset(ax, zx_graph, correlation_surfaces[i])\n",
    "        ax.grid(axis=\"both\")\n",
    "        ax.legend()\n",
    "        ax.loglog()\n",
    "        ax.set_title(\"Logical S Gate Error Rate\")\n",
    "        ax.set_xlabel(\"Physical Error Rate\")\n",
    "        ax.set_ylabel(\"Logical Error Rate(per round)\")"
   ]
  },
  {
   "cell_type": "markdown",
   "metadata": {},
   "source": [
    "### $Y \\rightarrow X$"
   ]
  },
  {
   "cell_type": "code",
   "execution_count": null,
   "metadata": {},
   "outputs": [],
   "source": [
    "generate_graphs(PauliBasis.Y)"
   ]
  },
  {
   "cell_type": "markdown",
   "metadata": {},
   "source": [
    "### $Z \\rightarrow Z$"
   ]
  },
  {
   "cell_type": "code",
   "execution_count": null,
   "metadata": {},
   "outputs": [],
   "source": [
    "generate_graphs(PauliBasis.Z)"
   ]
  },
  {
   "cell_type": "markdown",
   "metadata": {},
   "source": [
    "## References\n",
    "\n",
    ".. footbibliography::"
   ]
  }
 ],
 "metadata": {
  "kernelspec": {
   "display_name": ".venv",
   "language": "python",
   "name": "python3"
  },
  "language_info": {
   "codemirror_mode": {
    "name": "ipython",
    "version": 3
   },
   "file_extension": ".py",
   "mimetype": "text/x-python",
   "name": "python",
   "nbconvert_exporter": "python",
   "pygments_lexer": "ipython3",
   "version": "3.12.3"
  }
 },
 "nbformat": 4,
 "nbformat_minor": 4
}
