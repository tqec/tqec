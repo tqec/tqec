{
 "cells": [
  {
   "cell_type": "markdown",
   "id": "695f75d2",
   "metadata": {},
   "source": [
    "# Importing a Qiskit circuit into TQEC"
   ]
  },
  {
   "cell_type": "code",
   "execution_count": null,
   "id": "5986b007",
   "metadata": {},
   "outputs": [],
   "source": [
    "import random\n",
    "import numpy as np\n",
    "import matplotlib.pyplot as plt\n",
    "\n",
    "from IPython.display import display\n",
    "from pathlib import Path\n",
    "\n",
    "ASSETS_FOLDER = Path(\"../../assets/\").resolve()\n",
    "\n",
    "# To display interactive 3D visualisations, uncomment the following line.\n",
    "# %matplotlib widget"
   ]
  },
  {
   "cell_type": "markdown",
   "id": "27f0f36b",
   "metadata": {},
   "source": [
    "This notebook illustrates the process of importing into TQEC circuits originally created with Qiskit. We'll be using a previously-designed 16-qubit GHZ, but the procedure is the same for any circuit saved as `.qpy`.\n",
    "\n",
    "The notebook assumes:\n",
    "- you have designed a Qiskit circuit and saved it to `.qpy` format, \n",
    "- you installed all dependency groups when setting up TQEC (see instructions [here](https://tqec.github.io/tqec/contributor_guide.html))."
   ]
  },
  {
   "cell_type": "markdown",
   "id": "2be0a675",
   "metadata": {},
   "source": [
    "## Load Qiskit circuit"
   ]
  },
  {
   "cell_type": "markdown",
   "id": "2f541923",
   "metadata": {},
   "source": [
    "The first step is, naturally, to load and inspect the Qiskit circuit.\n",
    "\n",
    "Note that the circuit needs to be designed in a way that allows import into PyZX. This may or may not require you to adapt your circuit design practices. It really does depend on whether you already design with PyZX in mind or not. "
   ]
  },
  {
   "cell_type": "code",
   "execution_count": null,
   "id": "66009227",
   "metadata": {},
   "outputs": [],
   "source": [
    "from qiskit import qasm2, qpy\n",
    "\n",
    "# NAME OF CIRCUIT\n",
    "circuit_name = \"ghz16\"\n",
    "\n",
    "# LOAD CIRCUIT\n",
    "path_to_c = ASSETS_FOLDER / f\"{circuit_name}_qiskit.qpy\"\n",
    "with open(path_to_c, \"rb\") as f:\n",
    "    qc = qpy.load(f)[0]\n",
    "\n",
    "print(f\"\\n=> Imported Qiskit circuit of name {circuit_name.upper()}:\\n\")\n",
    "qc.draw(output=\"text\", fold=200)"
   ]
  },
  {
   "cell_type": "markdown",
   "id": "ea56a685",
   "metadata": {},
   "source": [
    "To load the circuit into PyZX, we need to export it to QASM."
   ]
  },
  {
   "cell_type": "code",
   "execution_count": null,
   "id": "bee986d0",
   "metadata": {},
   "outputs": [],
   "source": [
    "# CONVERT to QASM\n",
    "qasm_str = qasm2.dumps(qc)\n",
    "\n",
    "print(f\"\\n=> Converted Qiskit circuit of name {circuit_name.capitalize()} into the following QASM string:\\n\")\n",
    "print(qasm_str)"
   ]
  },
  {
   "cell_type": "markdown",
   "id": "4fa1cf21",
   "metadata": {},
   "source": [
    "## QASM to PyZX"
   ]
  },
  {
   "cell_type": "markdown",
   "id": "17863a3d",
   "metadata": {},
   "source": [
    "Let's now go ahead and load the circuit into QASM."
   ]
  },
  {
   "cell_type": "code",
   "execution_count": null,
   "id": "dfe92cf4",
   "metadata": {},
   "outputs": [],
   "source": [
    "if qasm_str:\n",
    "    import pyzx as zx\n",
    "    zx.settings.colors = zx.rgb_colors\n",
    "\n",
    "    # Import QASM into PyZX\n",
    "    zx_circuit = zx.Circuit.from_qasm(qasm_str)\n",
    "\n",
    "    # Convert incoming circuit into graph\n",
    "    zx_graph = zx_circuit.to_graph()\n",
    "\n",
    "    # Draw graph of incoming circuit\n",
    "    zx.draw(zx_graph, labels = True)"
   ]
  },
  {
   "cell_type": "markdown",
   "id": "de2c9b1d",
   "metadata": {},
   "source": [
    "The circuit is not optimised. It is possible to turn an unoptimised circuit into a TQEC `block_graph`, but the resulting `block_graph` would be quite large. \n",
    "\n",
    "So, it is better to optimise the circuit before converting it into a `block_graph`. \n",
    "\n",
    "For this, since PyZX's QASM compatibility is still in-development, we must first initialise the qubits and add any necessary measurements."
   ]
  },
  {
   "cell_type": "code",
   "execution_count": null,
   "id": "ad835257",
   "metadata": {},
   "outputs": [],
   "source": [
    "if zx_graph:\n",
    "    # States\n",
    "    num_apply_state = zx_graph.num_inputs()\n",
    "    zx_graph.apply_state('0' * num_apply_state)\n",
    "\n",
    "    # Post-selection\n",
    "    # Note! No post-selection is needed for this specific circuit.\n",
    "    # The following line is included to clarify where and how one would undertake the operation\n",
    "    # To apply post-selection, you would exchange the \"/\" for a \"0\" if you want the n-qubit post-selected (string is ordered by qubit).\n",
    "    zx_graph.apply_effect('////////////////')\n",
    "\n",
    "    # Draw graph of incoming circuit\n",
    "    zx.draw(zx_graph, labels = True)"
   ]
  },
  {
   "cell_type": "markdown",
   "id": "7deecf1c",
   "metadata": {},
   "source": [
    "It is now possible to use standard PyZX methods to reduce the circuit/graph to a more optimal version of itself."
   ]
  },
  {
   "cell_type": "code",
   "execution_count": null,
   "id": "c5ed1cc6",
   "metadata": {},
   "outputs": [],
   "source": [
    "random.seed(12)\n",
    "if zx_graph:\n",
    "\n",
    "    # Reduce circuit\n",
    "    zx.full_reduce(zx_graph)\n",
    "\n",
    "    # Draw reduced circuit\n",
    "    zx.draw(zx_graph, labels = True, auto_layout=True)"
   ]
  },
  {
   "cell_type": "markdown",
   "id": "25cd1c27",
   "metadata": {},
   "source": [
    "## Algorithmic lattice surgery"
   ]
  },
  {
   "cell_type": "markdown",
   "id": "38775219",
   "metadata": {},
   "source": [
    "It is now time to undertake lattice surgery on the PyZX graph.\n",
    "\n",
    "The first step is to convert the graph into TQEC/topologiq's native graph object, a `simple_graph`.\n",
    "\n",
    "The initial `simple_graph` graph is identical to the PyZX graph in terms of connectivity. It's just simpler and, by extension, easier to manipulate algorithmically. Also, even if connectivity remains the same, the visualisation of a `simple_graph` might look different than a PyZX figure because PyZX defines visualisation layouts using data that is not carried over into the `simple_graph`. "
   ]
  },
  {
   "cell_type": "code",
   "execution_count": null,
   "id": "8914774a",
   "metadata": {},
   "outputs": [],
   "source": [
    "if zx_graph:\n",
    "\n",
    "    from topologiq.utils.interop_pyzx import pyzx_g_to_simple_g\n",
    "    from topologiq.utils.simple_grapher import simple_graph_vis\n",
    "\n",
    "    # Transform ZX-graph into topologiq's native `simple_graph`\n",
    "    simple_graph = pyzx_g_to_simple_g(zx_graph)\n",
    "\n",
    "    # Print `simple_graph for inspection`\n",
    "    # We extract `fig_data` from the `simple_graph` due to having been unable to use PyZX visualisations for this.\n",
    "    # This does mean the overlay in future visualisations will not look exactly as the PyZX graph above.\n",
    "\n",
    "    fig_data = simple_graph_vis(simple_graph)\n",
    "    for k, v in simple_graph.items():\n",
    "        print(f\"{k}: {v}\")"
   ]
  },
  {
   "cell_type": "markdown",
   "id": "02dc5da3",
   "metadata": {},
   "source": [
    "After, we can run the `simple_graph` by Topologiq.\n",
    "\n",
    "It is worth noting before running Topologiq that the exact shape of the `simple_graph` might change significantly during the process. For example, surface code-based lattice surgery requires graphs where all spiders have at most four (4) legs/neighbours, which is evidently not the case of the graph drawn above. Topologiq has internal obfuscation operations to handle this kind of situations."
   ]
  },
  {
   "cell_type": "code",
   "execution_count": null,
   "id": "68dd7bc9",
   "metadata": {},
   "outputs": [],
   "source": [
    "if zx_graph:\n",
    "\n",
    "    from topologiq.scripts.runner import runner\n",
    "\n",
    "    # Parameters & hyper-parameters\n",
    "    full_circuit_name = f\"qiskit_{circuit_name}\"\n",
    "    vis = \"final\"  # Calls 3D visualisation at the end. `None` to deactivate.\n",
    "    anim = None  # Best to avoid in a public notebook. Animation support depends a lot on the machine and rights.\n",
    "\n",
    "    VALUE_FUNCTION_HYPERPARAMS = (\n",
    "        -1,  # Weight for length of path\n",
    "        -1,  # Weight for number of \"beams\" broken by path\n",
    "    )\n",
    "\n",
    "    kwargs = {\n",
    "        \"weights\": VALUE_FUNCTION_HYPERPARAMS,\n",
    "        \"length_of_beams\": 9,\n",
    "    }\n",
    "\n",
    "    # Run topologiq\n",
    "    _, _, lattice_nodes, lattice_edges = runner(\n",
    "        simple_graph,  # The simple_graph to be processed by Topologiq\n",
    "        full_circuit_name,  # Name of the circuit\n",
    "        min_succ_rate = 80,  # Runtime saving parameter (min % of total possible paths per edge)\n",
    "        strip_ports = False,  # Remove open boundaries from an incoming graph\n",
    "        hide_ports = False,  # Leave open boundaries in graph object but hide in visualisations\n",
    "        max_attempts = 10,  # Maximum # of attempts to find a successful solution\n",
    "        stop_on_first_success = True,  # Exit when any attempt is successful (False useful for automating stats)\n",
    "        visualise = (vis, anim),  # (Visualisation mode, Animation mode)\n",
    "        log_stats = False,  # Automatically log stats for all runs (requires writing privileges)\n",
    "        debug = False,  # Enter debug mode (additional detail in visualisation)\n",
    "        fig_data = None,  # Matplotlib object containing input ZX graph (to overlay over visualisations)\n",
    "        **kwargs,  # {Weights for value function, Length of beams}\n",
    "    )"
   ]
  },
  {
   "cell_type": "markdown",
   "id": "2ff52fdc",
   "metadata": {},
   "source": [
    "And we can print topologiq's outputs to inspect them, in particular, `lattice_nodes` and `lattice_edges`, which will become the TQEC `block_graph`."
   ]
  },
  {
   "cell_type": "code",
   "execution_count": null,
   "id": "85b91dcf",
   "metadata": {},
   "outputs": [],
   "source": [
    "if lattice_nodes and lattice_edges:\n",
    "    print(\"\\nCubes in final output:\")\n",
    "    for k, v in lattice_nodes.items():\n",
    "        print(f\"{k}:{v}\")\n",
    "\n",
    "    print(\"\\nPipes in final output:\")\n",
    "    for k, v in lattice_edges.items():\n",
    "        print(f\"{k}:{v}\")"
   ]
  },
  {
   "cell_type": "markdown",
   "id": "4128579f",
   "metadata": {},
   "source": [
    "## Importing to TQEC"
   ]
  },
  {
   "cell_type": "markdown",
   "id": "7d784a93",
   "metadata": {},
   "source": [
    "The structure of `lattice_nodes` and `lattice_edges` is essentially the same as TQEC's `block_graph`, with one caveat.\n",
    "\n",
    "There is a need to perform some re-scaling and re-indexing of edges. In TQEC's `block_graph`, pipes occupy no space, which leads to adjacent cubes being closer to one another than in a space-time diagram where pipes do occupy space for the purposes of visualising things clearly.\n",
    "\n",
    "Fortunately, TQEC already has a way to import 3D objects like `lattice_nodes` and `lattice_edges`. TQEC can import 3D models encoded in COLLADA format (`.dae`), which use the same kind of coordinates and artifacts as `lattice_nodes` and `lattice_edges`. Accordingly, the following block of code relies on TQEC's COLLADA interoperability to realise similar transformations for `lattice_nodes` and `lattice_edges`, leading into a `block_graph`."
   ]
  },
  {
   "cell_type": "code",
   "execution_count": null,
   "id": "4c9d0c38",
   "metadata": {},
   "outputs": [],
   "source": [
    "if lattice_nodes and lattice_edges:\n",
    "\n",
    "    from tqec.interop.pyzx.topologiq import read_from_lattice_dicts\n",
    "    from tqec.computation.block_graph import BlockGraph\n",
    "\n",
    "    # Import using standardised method for importing lattice surgeries / space-time diagram into TQEC\n",
    "    lattice_edges_min = dict([(k,v[0]) for k,v in lattice_edges.items()])\n",
    "    block_graph: BlockGraph = read_from_lattice_dicts(lattice_nodes, lattice_edges_min, graph_name=full_circuit_name)\n",
    "\n",
    "    # Visualise using TQEC methods\n",
    "    html = block_graph.view_as_html()\n",
    "    display(html)"
   ]
  },
  {
   "cell_type": "markdown",
   "id": "85ed6942",
   "metadata": {},
   "source": [
    "You may have noticed the imported blockgraph lacks the boundary nodes / port cubes, the ones seen in gray in topologiq's 3D visualisation. \n",
    "\n",
    "This is normal. The TQEC import adds transparent placeholder objects at those coordinates.\n",
    "\n",
    "To enable computation, these need to be \"filled\", which is done as follows."
   ]
  },
  {
   "cell_type": "code",
   "execution_count": null,
   "id": "0dfe32fe",
   "metadata": {},
   "outputs": [],
   "source": [
    "if block_graph:\n",
    "\n",
    "    # Fill ports using function that yields minimal set of block_graphs needed for simulation\n",
    "    filled_block_graphs = block_graph.fill_ports_for_minimal_simulation()\n",
    "\n",
    "    # Show all block_graphs in minimal set\n",
    "    for i, filled_block_graph in enumerate(filled_block_graphs):\n",
    "        for j, correlation_surface in enumerate(filled_block_graph.observables):\n",
    "            html = filled_block_graph.graph.view_as_html(\n",
    "                pop_faces_at_directions=(\"-Y\", \"+X\"),\n",
    "                show_correlation_surface=filled_block_graph.observables[j],\n",
    "            )\n",
    "            display(html)"
   ]
  },
  {
   "cell_type": "markdown",
   "id": "76b2dfff",
   "metadata": {},
   "source": [
    "## Further usage"
   ]
  },
  {
   "cell_type": "markdown",
   "id": "52d064df",
   "metadata": {},
   "source": [
    "We can use `filled_block_graphs` further. For instance, you can use it to get Stim circuits for each basis, as well as run simulations with it. \n",
    "\n",
    "Having said that, this will not be covered in this notebook mainly because these steps are documented extensively in other gallery notebooks. \n",
    "\n",
    "For guidance on how to generate Stim circuits and run simulations see, for example, [this notebook](https://tqec.github.io/tqec/gallery/qrisp.html)."
   ]
  }
 ],
 "metadata": {
  "kernelspec": {
   "display_name": "tqec",
   "language": "python",
   "name": "python3"
  },
  "language_info": {
   "codemirror_mode": {
    "name": "ipython",
    "version": 3
   },
   "file_extension": ".py",
   "mimetype": "text/x-python",
   "name": "python",
   "nbconvert_exporter": "python",
   "pygments_lexer": "ipython3",
   "version": "3.13.3"
  }
 },
 "nbformat": 4,
 "nbformat_minor": 5
}
